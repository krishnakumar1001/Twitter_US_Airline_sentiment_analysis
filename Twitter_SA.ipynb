{
 "cells": [
  {
   "cell_type": "code",
   "execution_count": 69,
   "metadata": {},
   "outputs": [],
   "source": [
    "import numpy as np\n",
    "import pandas as pd\n",
    "import nltk\n",
    "import re\n",
    "import string\n",
    "import matplotlib.pyplot as plt\n",
    "#methods and stopwords text processing\n",
    "from nltk.corpus import stopwords\n",
    "from nltk.tokenize import word_tokenize\n",
    "from nltk.stem import PorterStemmer\n",
    "from nltk.stem import WordNetLemmatizer\n",
    "from sklearn.feature_extraction.text import TfidfVectorizer\n",
    "from sklearn import model_selection\n",
    "from sklearn.model_selection import train_test_split\n",
    "\n",
    "# Machine learning Libraries\n",
    "from sklearn.metrics import accuracy_score\n",
    "from sklearn.naive_bayes import MultinomialNB\n",
    "from sklearn.linear_model import LogisticRegression\n",
    "from sklearn.svm import SVC"
   ]
  },
  {
   "cell_type": "code",
   "execution_count": 24,
   "metadata": {},
   "outputs": [
    {
     "data": {
      "text/plain": [
       "0        negative\n",
       "1        positive\n",
       "2        positive\n",
       "3        negative\n",
       "4        negative\n",
       "           ...   \n",
       "10975     neutral\n",
       "10976    positive\n",
       "10977    negative\n",
       "10978    negative\n",
       "10979    negative\n",
       "Name: airline_sentiment, Length: 10980, dtype: object"
      ]
     },
     "execution_count": 24,
     "metadata": {},
     "output_type": "execute_result"
    }
   ],
   "source": [
    "data=pd.read_csv('twitter_train.csv')\n",
    "data.airline_sentiment"
   ]
  },
  {
   "cell_type": "markdown",
   "metadata": {},
   "source": [
    "### Get rid Unwanted columns\n"
   ]
  },
  {
   "cell_type": "code",
   "execution_count": 5,
   "metadata": {},
   "outputs": [],
   "source": [
    "def delete_cols(df,cols):\n",
    "    for col in cols:\n",
    "        del df[col]\n",
    "    return df      "
   ]
  },
  {
   "cell_type": "markdown",
   "metadata": {},
   "source": [
    "###  Preprocessing the Text"
   ]
  },
  {
   "cell_type": "code",
   "execution_count": 37,
   "metadata": {},
   "outputs": [],
   "source": [
    "# Creating a stopwords set\n",
    "sw=set(stopwords.words('english'))\n",
    "def preprocess_tweet_text(tweet):\n",
    "    # convert all the text lowercase\n",
    "    tweet=tweet.lower()\n",
    "    \n",
    "    # remove any urls\n",
    "    tweet=re.sub(r\"http\\S+|www\\S+|http\\S+\",\"\",tweet, flags=re.MULTILINE)\n",
    "    \n",
    "    #remove puncutations\n",
    "    tweet =tweet.translate(str.maketrans(\"\",\"\",string.punctuation))\n",
    "    \n",
    "    #remove user @ References and \"#\" ,Numbers from tweet\n",
    "    tweet=re.sub(r'\\@\\w+|\\#',\"\",tweet)\n",
    "    #remove stopwords\n",
    "    tweet_tokens=word_tokenize(tweet)\n",
    "    filtered_words=[word for word in tweet_tokens if word not in sw]\n",
    "    \n",
    "    # Stemming\n",
    "    ps= PorterStemmer()\n",
    "    stemmed_words=[ps.stem(w) for w in filtered_words]\n",
    "    \n",
    "    #lemmatizing\n",
    "    lemmatizer=WordNetLemmatizer()\n",
    "    lemma_words=[lemmatizer.lemmatize(w,pos='a') for w in stemmed_words]\n",
    "    \n",
    "    return \" \".join(lemma_words)"
   ]
  },
  {
   "cell_type": "code",
   "execution_count": 35,
   "metadata": {},
   "outputs": [
    {
     "data": {
      "text/html": [
       "<div>\n",
       "<style scoped>\n",
       "    .dataframe tbody tr th:only-of-type {\n",
       "        vertical-align: middle;\n",
       "    }\n",
       "\n",
       "    .dataframe tbody tr th {\n",
       "        vertical-align: top;\n",
       "    }\n",
       "\n",
       "    .dataframe thead th {\n",
       "        text-align: right;\n",
       "    }\n",
       "</style>\n",
       "<table border=\"1\" class=\"dataframe\">\n",
       "  <thead>\n",
       "    <tr style=\"text-align: right;\">\n",
       "      <th></th>\n",
       "      <th>airline_sentiment</th>\n",
       "      <th>airline</th>\n",
       "      <th>text</th>\n",
       "    </tr>\n",
       "  </thead>\n",
       "  <tbody>\n",
       "    <tr>\n",
       "      <th>0</th>\n",
       "      <td>negative</td>\n",
       "      <td>Southwest</td>\n",
       "      <td>@SouthwestAir I am scheduled for the morning, ...</td>\n",
       "    </tr>\n",
       "    <tr>\n",
       "      <th>1</th>\n",
       "      <td>positive</td>\n",
       "      <td>Southwest</td>\n",
       "      <td>@SouthwestAir seeing your workers time in and ...</td>\n",
       "    </tr>\n",
       "    <tr>\n",
       "      <th>2</th>\n",
       "      <td>positive</td>\n",
       "      <td>United</td>\n",
       "      <td>@united Flew ORD to Miami and back and  had gr...</td>\n",
       "    </tr>\n",
       "    <tr>\n",
       "      <th>3</th>\n",
       "      <td>negative</td>\n",
       "      <td>Southwest</td>\n",
       "      <td>@SouthwestAir @dultch97 that's horse radish 😤🐴</td>\n",
       "    </tr>\n",
       "    <tr>\n",
       "      <th>4</th>\n",
       "      <td>negative</td>\n",
       "      <td>United</td>\n",
       "      <td>@united so our flight into ORD was delayed bec...</td>\n",
       "    </tr>\n",
       "    <tr>\n",
       "      <th>...</th>\n",
       "      <td>...</td>\n",
       "      <td>...</td>\n",
       "      <td>...</td>\n",
       "    </tr>\n",
       "    <tr>\n",
       "      <th>10975</th>\n",
       "      <td>neutral</td>\n",
       "      <td>American</td>\n",
       "      <td>@AmericanAir followback</td>\n",
       "    </tr>\n",
       "    <tr>\n",
       "      <th>10976</th>\n",
       "      <td>positive</td>\n",
       "      <td>United</td>\n",
       "      <td>@united thanks for the help. Wish the phone re...</td>\n",
       "    </tr>\n",
       "    <tr>\n",
       "      <th>10977</th>\n",
       "      <td>negative</td>\n",
       "      <td>US Airways</td>\n",
       "      <td>@usairways the. Worst. Ever. #dca #customerser...</td>\n",
       "    </tr>\n",
       "    <tr>\n",
       "      <th>10978</th>\n",
       "      <td>negative</td>\n",
       "      <td>US Airways</td>\n",
       "      <td>@nrhodes85: look! Another apology. DO NOT FLY ...</td>\n",
       "    </tr>\n",
       "    <tr>\n",
       "      <th>10979</th>\n",
       "      <td>negative</td>\n",
       "      <td>United</td>\n",
       "      <td>@united you are by far the worst airline. 4 pl...</td>\n",
       "    </tr>\n",
       "  </tbody>\n",
       "</table>\n",
       "<p>10980 rows × 3 columns</p>\n",
       "</div>"
      ],
      "text/plain": [
       "      airline_sentiment     airline  \\\n",
       "0              negative   Southwest   \n",
       "1              positive   Southwest   \n",
       "2              positive      United   \n",
       "3              negative   Southwest   \n",
       "4              negative      United   \n",
       "...                 ...         ...   \n",
       "10975           neutral    American   \n",
       "10976          positive      United   \n",
       "10977          negative  US Airways   \n",
       "10978          negative  US Airways   \n",
       "10979          negative      United   \n",
       "\n",
       "                                                    text  \n",
       "0      @SouthwestAir I am scheduled for the morning, ...  \n",
       "1      @SouthwestAir seeing your workers time in and ...  \n",
       "2      @united Flew ORD to Miami and back and  had gr...  \n",
       "3         @SouthwestAir @dultch97 that's horse radish 😤🐴  \n",
       "4      @united so our flight into ORD was delayed bec...  \n",
       "...                                                  ...  \n",
       "10975                            @AmericanAir followback  \n",
       "10976  @united thanks for the help. Wish the phone re...  \n",
       "10977  @usairways the. Worst. Ever. #dca #customerser...  \n",
       "10978  @nrhodes85: look! Another apology. DO NOT FLY ...  \n",
       "10979  @united you are by far the worst airline. 4 pl...  \n",
       "\n",
       "[10980 rows x 3 columns]"
      ]
     },
     "execution_count": 35,
     "metadata": {},
     "output_type": "execute_result"
    }
   ],
   "source": [
    "drop_cols = ['airline_sentiment_gold','name','negativereason_gold','tweet_id', 'retweet_count','tweet_created','user_timezone','tweet_coord','tweet_location']\n",
    "\n",
    "delete_cols(data,drop_cols)"
   ]
  },
  {
   "cell_type": "code",
   "execution_count": 38,
   "metadata": {},
   "outputs": [],
   "source": [
    "data_index = data.index\n",
    "for index, row in data.iterrows():\n",
    "    tweet=row.text\n",
    "    tweet=preprocess_tweet_text(tweet)\n",
    "    tweet = \" %s %s\" % (tweet, row.airline)\n",
    "    row.text = tweet"
   ]
  },
  {
   "cell_type": "code",
   "execution_count": 40,
   "metadata": {},
   "outputs": [],
   "source": [
    "def deEmojify(inputString):\n",
    "    return inputString.encode('ascii', 'ignore').decode('ascii')\n",
    "\n",
    "for index, row in data.iterrows():\n",
    "    row.text = deEmojify(row.text)\n"
   ]
  },
  {
   "cell_type": "code",
   "execution_count": 41,
   "metadata": {},
   "outputs": [
    {
     "data": {
      "text/html": [
       "<div>\n",
       "<style scoped>\n",
       "    .dataframe tbody tr th:only-of-type {\n",
       "        vertical-align: middle;\n",
       "    }\n",
       "\n",
       "    .dataframe tbody tr th {\n",
       "        vertical-align: top;\n",
       "    }\n",
       "\n",
       "    .dataframe thead th {\n",
       "        text-align: right;\n",
       "    }\n",
       "</style>\n",
       "<table border=\"1\" class=\"dataframe\">\n",
       "  <thead>\n",
       "    <tr style=\"text-align: right;\">\n",
       "      <th></th>\n",
       "      <th>airline_sentiment</th>\n",
       "      <th>airline</th>\n",
       "      <th>text</th>\n",
       "    </tr>\n",
       "  </thead>\n",
       "  <tbody>\n",
       "    <tr>\n",
       "      <th>0</th>\n",
       "      <td>negative</td>\n",
       "      <td>Southwest</td>\n",
       "      <td>southwestair schedul morn 2 day fact yesnot s...</td>\n",
       "    </tr>\n",
       "    <tr>\n",
       "      <th>1</th>\n",
       "      <td>positive</td>\n",
       "      <td>Southwest</td>\n",
       "      <td>southwestair see worker time time go beyond l...</td>\n",
       "    </tr>\n",
       "    <tr>\n",
       "      <th>2</th>\n",
       "      <td>positive</td>\n",
       "      <td>United</td>\n",
       "      <td>unit flew ord miami back great crew servic le...</td>\n",
       "    </tr>\n",
       "    <tr>\n",
       "      <th>3</th>\n",
       "      <td>negative</td>\n",
       "      <td>Southwest</td>\n",
       "      <td>southwestair dultch97 that hors radish  South...</td>\n",
       "    </tr>\n",
       "    <tr>\n",
       "      <th>4</th>\n",
       "      <td>negative</td>\n",
       "      <td>United</td>\n",
       "      <td>unit flight ord delay air forc one last fligh...</td>\n",
       "    </tr>\n",
       "  </tbody>\n",
       "</table>\n",
       "</div>"
      ],
      "text/plain": [
       "  airline_sentiment    airline  \\\n",
       "0          negative  Southwest   \n",
       "1          positive  Southwest   \n",
       "2          positive     United   \n",
       "3          negative  Southwest   \n",
       "4          negative     United   \n",
       "\n",
       "                                                text  \n",
       "0   southwestair schedul morn 2 day fact yesnot s...  \n",
       "1   southwestair see worker time time go beyond l...  \n",
       "2   unit flew ord miami back great crew servic le...  \n",
       "3   southwestair dultch97 that hors radish  South...  \n",
       "4   unit flight ord delay air forc one last fligh...  "
      ]
     },
     "execution_count": 41,
     "metadata": {},
     "output_type": "execute_result"
    }
   ],
   "source": [
    "data.head()"
   ]
  },
  {
   "cell_type": "code",
   "execution_count": 55,
   "metadata": {
    "scrolled": true
   },
   "outputs": [
    {
     "name": "stdout",
     "output_type": "stream",
     "text": [
      "(10980, 3)\n",
      "(8235, 3)\n",
      "(2745, 3)\n",
      "(8235,)\n",
      "(2745,)\n"
     ]
    }
   ],
   "source": [
    "x_train,x_test,y_train,y_test=model_selection.train_test_split(data,data.airline_sentiment)\n",
    "print(data.shape)\n",
    "print(x_train.shape)\n",
    "print(x_test.shape)\n",
    "print(y_train.shape)\n",
    "print(y_test.shape)"
   ]
  },
  {
   "cell_type": "code",
   "execution_count": 59,
   "metadata": {},
   "outputs": [
    {
     "name": "stdout",
     "output_type": "stream",
     "text": [
      "10343    negative\n",
      "4622     negative\n",
      "4782     negative\n",
      "10872    negative\n",
      "7704     negative\n",
      "Name: airline_sentiment, dtype: object\n"
     ]
    },
    {
     "data": {
      "text/html": [
       "<div>\n",
       "<style scoped>\n",
       "    .dataframe tbody tr th:only-of-type {\n",
       "        vertical-align: middle;\n",
       "    }\n",
       "\n",
       "    .dataframe tbody tr th {\n",
       "        vertical-align: top;\n",
       "    }\n",
       "\n",
       "    .dataframe thead th {\n",
       "        text-align: right;\n",
       "    }\n",
       "</style>\n",
       "<table border=\"1\" class=\"dataframe\">\n",
       "  <thead>\n",
       "    <tr style=\"text-align: right;\">\n",
       "      <th></th>\n",
       "      <th>airline_sentiment</th>\n",
       "      <th>airline</th>\n",
       "      <th>text</th>\n",
       "    </tr>\n",
       "  </thead>\n",
       "  <tbody>\n",
       "    <tr>\n",
       "      <th>6919</th>\n",
       "      <td>negative</td>\n",
       "      <td>American</td>\n",
       "      <td>americanair file loctjycqh bag airport sinc l...</td>\n",
       "    </tr>\n",
       "    <tr>\n",
       "      <th>5015</th>\n",
       "      <td>negative</td>\n",
       "      <td>US Airways</td>\n",
       "      <td>usairway travel 2 year old would appreci hold...</td>\n",
       "    </tr>\n",
       "    <tr>\n",
       "      <th>4247</th>\n",
       "      <td>negative</td>\n",
       "      <td>American</td>\n",
       "      <td>americanair wasnt offer perk usairway ask tol...</td>\n",
       "    </tr>\n",
       "    <tr>\n",
       "      <th>3923</th>\n",
       "      <td>negative</td>\n",
       "      <td>US Airways</td>\n",
       "      <td>usairway US Airways</td>\n",
       "    </tr>\n",
       "    <tr>\n",
       "      <th>10805</th>\n",
       "      <td>neutral</td>\n",
       "      <td>United</td>\n",
       "      <td>unit dm sent United</td>\n",
       "    </tr>\n",
       "  </tbody>\n",
       "</table>\n",
       "</div>"
      ],
      "text/plain": [
       "      airline_sentiment     airline  \\\n",
       "6919           negative    American   \n",
       "5015           negative  US Airways   \n",
       "4247           negative    American   \n",
       "3923           negative  US Airways   \n",
       "10805           neutral      United   \n",
       "\n",
       "                                                    text  \n",
       "6919    americanair file loctjycqh bag airport sinc l...  \n",
       "5015    usairway travel 2 year old would appreci hold...  \n",
       "4247    americanair wasnt offer perk usairway ask tol...  \n",
       "3923                                 usairway US Airways  \n",
       "10805                                unit dm sent United  "
      ]
     },
     "execution_count": 59,
     "metadata": {},
     "output_type": "execute_result"
    }
   ],
   "source": [
    "print(y_train.head())\n",
    "x_test.head()"
   ]
  },
  {
   "cell_type": "code",
   "execution_count": 53,
   "metadata": {},
   "outputs": [],
   "source": []
  },
  {
   "cell_type": "code",
   "execution_count": 61,
   "metadata": {},
   "outputs": [],
   "source": [
    "v = TfidfVectorizer(analyzer='word', max_features=3150, max_df = 0.8, ngram_range=(1,1))\n",
    "train_features= v.fit_transform(x_train.text)\n",
    "test_features=v.transform(x_test.text)"
   ]
  },
  {
   "cell_type": "code",
   "execution_count": 62,
   "metadata": {},
   "outputs": [],
   "source": [
    "from sklearn.naive_bayes import MultinomialNB,BernoulliNB,GaussianNB\n",
    "mnb=MultinomialNB()\n",
    "# Train\n",
    "mnb.fit(train_features,y_train)\n",
    "#predictions\n",
    "pred1=mnb.predict(test_features)\n"
   ]
  },
  {
   "cell_type": "code",
   "execution_count": 85,
   "metadata": {},
   "outputs": [],
   "source": [
    "from sklearn.metrics import confusion_matrix,classification_report\n",
    "from sklearn.metrics import accuracy_score,precision_score,recall_score,confusion_matrix,roc_curve,classification_report\n",
    "from scikitplot.metrics import plot_confusion_matrix\n",
    "from sklearn.metrics import confusion_matrix, ConfusionMatrixDisplay"
   ]
  },
  {
   "cell_type": "code",
   "execution_count": 80,
   "metadata": {
    "scrolled": false
   },
   "outputs": [
    {
     "name": "stdout",
     "output_type": "stream",
     "text": [
      "[[1687   22    7]\n",
      " [ 416  129   26]\n",
      " [ 284   37  137]]\n"
     ]
    }
   ],
   "source": [
    "cnf_matrix=confusion_matrix(y_test,pred1)\n",
    "\n",
    "print(cnf_matrix)"
   ]
  },
  {
   "cell_type": "code",
   "execution_count": 86,
   "metadata": {},
   "outputs": [
    {
     "name": "stdout",
     "output_type": "stream",
     "text": [
      "              precision    recall  f1-score   support\n",
      "\n",
      "    negative       0.71      0.98      0.82      1716\n",
      "     neutral       0.69      0.23      0.34       571\n",
      "    positive       0.81      0.30      0.44       458\n",
      "\n",
      "    accuracy                           0.71      2745\n",
      "   macro avg       0.73      0.50      0.53      2745\n",
      "weighted avg       0.72      0.71      0.66      2745\n",
      "\n"
     ]
    }
   ],
   "source": [
    "print(classification_report(y_test,pred1))"
   ]
  }
 ],
 "metadata": {
  "kernelspec": {
   "display_name": "Python 3",
   "language": "python",
   "name": "python3"
  },
  "language_info": {
   "codemirror_mode": {
    "name": "ipython",
    "version": 3
   },
   "file_extension": ".py",
   "mimetype": "text/x-python",
   "name": "python",
   "nbconvert_exporter": "python",
   "pygments_lexer": "ipython3",
   "version": "3.8.5"
  }
 },
 "nbformat": 4,
 "nbformat_minor": 4
}
